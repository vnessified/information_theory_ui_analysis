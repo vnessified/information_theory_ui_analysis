{
 "cells": [
  {
   "cell_type": "markdown",
   "metadata": {},
   "source": [
    "# Entropy \"model\""
   ]
  },
  {
   "cell_type": "markdown",
   "metadata": {},
   "source": [
    "## Imports"
   ]
  },
  {
   "cell_type": "code",
   "execution_count": 1,
   "metadata": {
    "collapsed": true
   },
   "outputs": [],
   "source": [
    "from glob import glob\n",
    "import json\n",
    "import numpy as np\n",
    "from os.path import basename\n",
    "import pandas as pd\n",
    "import PIL\n",
    "import scipy.stats\n",
    "import skimage.filters.rank \n",
    "from skimage.morphology import disk\n",
    "\n",
    "from IPython.display import display\n",
    "import matplotlib.pyplot as plt\n",
    "import seaborn as sns\n",
    "\n",
    "plt.style.use('fivethirtyeight')\n",
    "sns.set_style(\"dark\", {'axes.grid' : False})\n",
    "%matplotlib inline\n",
    "%config InlineBackend.figure_format = 'retina'"
   ]
  },
  {
   "cell_type": "markdown",
   "metadata": {},
   "source": [
    "## Load data"
   ]
  },
  {
   "cell_type": "code",
   "execution_count": 2,
   "metadata": {},
   "outputs": [
    {
     "data": {
      "text/plain": [
       "(70959, 12)"
      ]
     },
     "execution_count": 2,
     "metadata": {},
     "output_type": "execute_result"
    }
   ],
   "source": [
    "app_ui_exp = pd.read_pickle('../clean_data/app_ui_exp.pkl')\n",
    "app_ui_exp.shape"
   ]
  },
  {
   "cell_type": "code",
   "execution_count": 3,
   "metadata": {
    "scrolled": true
   },
   "outputs": [
    {
     "data": {
      "text/html": [
       "<div>\n",
       "<style>\n",
       "    .dataframe thead tr:only-child th {\n",
       "        text-align: right;\n",
       "    }\n",
       "\n",
       "    .dataframe thead th {\n",
       "        text-align: left;\n",
       "    }\n",
       "\n",
       "    .dataframe tbody tr th {\n",
       "        vertical-align: top;\n",
       "    }\n",
       "</style>\n",
       "<table border=\"1\" class=\"dataframe\">\n",
       "  <thead>\n",
       "    <tr style=\"text-align: right;\">\n",
       "      <th></th>\n",
       "      <th>app_package_name</th>\n",
       "      <th>app_names</th>\n",
       "      <th>app_category</th>\n",
       "      <th>star_rating_ave</th>\n",
       "      <th>average_rating_ave</th>\n",
       "      <th>min_ratings_ave</th>\n",
       "      <th>filename_list</th>\n",
       "      <th>filename_num</th>\n",
       "      <th>filename_exp</th>\n",
       "      <th>img_w</th>\n",
       "      <th>img_h</th>\n",
       "      <th>aspect_ratio</th>\n",
       "    </tr>\n",
       "  </thead>\n",
       "  <tbody>\n",
       "    <tr>\n",
       "      <th>0</th>\n",
       "      <td>B4A.BigFivePersonalityTest</td>\n",
       "      <td>Big 5 Personality Test</td>\n",
       "      <td>Education</td>\n",
       "      <td>3.6</td>\n",
       "      <td>6698.000000</td>\n",
       "      <td>1000000.0</td>\n",
       "      <td>[../app_uis/49783.jpg]</td>\n",
       "      <td>1</td>\n",
       "      <td>../app_uis/49783.jpg</td>\n",
       "      <td>1080</td>\n",
       "      <td>1920</td>\n",
       "      <td>0.5625</td>\n",
       "    </tr>\n",
       "    <tr>\n",
       "      <th>1</th>\n",
       "      <td>CN.MyPrivateMessages</td>\n",
       "      <td>Calculator</td>\n",
       "      <td>Communication</td>\n",
       "      <td>4.3</td>\n",
       "      <td>16952.333333</td>\n",
       "      <td>1000000.0</td>\n",
       "      <td>[../app_uis/26083.jpg]</td>\n",
       "      <td>1</td>\n",
       "      <td>../app_uis/26083.jpg</td>\n",
       "      <td>1080</td>\n",
       "      <td>1920</td>\n",
       "      <td>0.5625</td>\n",
       "    </tr>\n",
       "  </tbody>\n",
       "</table>\n",
       "</div>"
      ],
      "text/plain": [
       "             app_package_name               app_names   app_category  \\\n",
       "0  B4A.BigFivePersonalityTest  Big 5 Personality Test      Education   \n",
       "1        CN.MyPrivateMessages              Calculator  Communication   \n",
       "\n",
       "   star_rating_ave  average_rating_ave  min_ratings_ave  \\\n",
       "0              3.6         6698.000000        1000000.0   \n",
       "1              4.3        16952.333333        1000000.0   \n",
       "\n",
       "            filename_list  filename_num          filename_exp  img_w  img_h  \\\n",
       "0  [../app_uis/49783.jpg]             1  ../app_uis/49783.jpg   1080   1920   \n",
       "1  [../app_uis/26083.jpg]             1  ../app_uis/26083.jpg   1080   1920   \n",
       "\n",
       "   aspect_ratio  \n",
       "0        0.5625  \n",
       "1        0.5625  "
      ]
     },
     "execution_count": 3,
     "metadata": {},
     "output_type": "execute_result"
    }
   ],
   "source": [
    "app_ui_exp.head(2)"
   ]
  },
  {
   "cell_type": "markdown",
   "metadata": {},
   "source": [
    "#### Resize screenshots to a more manageable size for entropy calculation using below script"
   ]
  },
  {
   "cell_type": "code",
   "execution_count": 4,
   "metadata": {},
   "outputs": [
    {
     "name": "stdout",
     "output_type": "stream",
     "text": [
      "from glob import glob\r\n",
      "from PIL import Image\r\n",
      "from os.path import basename\r\n",
      "\r\n",
      "source_path = '../app_uis/'\r\n",
      "dest_path = '../app_uis_resized/'\r\n",
      "\r\n",
      "# loop over images and resize\r\n",
      "for i, x in enumerate(glob(source_path + '*.jpg')):\r\n",
      "    try:\r\n",
      "        img = Image.open(x)\r\n",
      "        size = img.size\r\n",
      "        if size[0] < size[1]:\r\n",
      "            img_resized = img.resize((270, 480), Image.ANTIALIAS)\r\n",
      "        else:\r\n",
      "            img_resized = img.resize((480, 270), Image.ANTIALIAS)\r\n",
      "        img_resized.save(dest_path + basename(x))\r\n",
      "    except OSError as e:\r\n",
      "        pass\r\n",
      "    if i % 1000 == 0:\r\n",
      "        print(i)\r\n"
     ]
    }
   ],
   "source": [
    "! cat ../scripts/resize.py"
   ]
  },
  {
   "cell_type": "markdown",
   "metadata": {},
   "source": [
    "#### Add column in dataframe for filepaths to resized images"
   ]
  },
  {
   "cell_type": "code",
   "execution_count": 5,
   "metadata": {},
   "outputs": [
    {
     "data": {
      "text/html": [
       "<div>\n",
       "<style>\n",
       "    .dataframe thead tr:only-child th {\n",
       "        text-align: right;\n",
       "    }\n",
       "\n",
       "    .dataframe thead th {\n",
       "        text-align: left;\n",
       "    }\n",
       "\n",
       "    .dataframe tbody tr th {\n",
       "        vertical-align: top;\n",
       "    }\n",
       "</style>\n",
       "<table border=\"1\" class=\"dataframe\">\n",
       "  <thead>\n",
       "    <tr style=\"text-align: right;\">\n",
       "      <th></th>\n",
       "      <th>app_package_name</th>\n",
       "      <th>app_names</th>\n",
       "      <th>app_category</th>\n",
       "      <th>star_rating_ave</th>\n",
       "      <th>average_rating_ave</th>\n",
       "      <th>min_ratings_ave</th>\n",
       "      <th>filename_list</th>\n",
       "      <th>filename_num</th>\n",
       "      <th>filename_exp</th>\n",
       "      <th>img_w</th>\n",
       "      <th>img_h</th>\n",
       "      <th>aspect_ratio</th>\n",
       "      <th>resized_file</th>\n",
       "    </tr>\n",
       "  </thead>\n",
       "  <tbody>\n",
       "    <tr>\n",
       "      <th>0</th>\n",
       "      <td>B4A.BigFivePersonalityTest</td>\n",
       "      <td>Big 5 Personality Test</td>\n",
       "      <td>Education</td>\n",
       "      <td>3.6</td>\n",
       "      <td>6698.000000</td>\n",
       "      <td>1000000.0</td>\n",
       "      <td>[../app_uis/49783.jpg]</td>\n",
       "      <td>1</td>\n",
       "      <td>../app_uis/49783.jpg</td>\n",
       "      <td>1080</td>\n",
       "      <td>1920</td>\n",
       "      <td>0.5625</td>\n",
       "      <td>../app_uis_resized/49783.jpg</td>\n",
       "    </tr>\n",
       "    <tr>\n",
       "      <th>1</th>\n",
       "      <td>CN.MyPrivateMessages</td>\n",
       "      <td>Calculator</td>\n",
       "      <td>Communication</td>\n",
       "      <td>4.3</td>\n",
       "      <td>16952.333333</td>\n",
       "      <td>1000000.0</td>\n",
       "      <td>[../app_uis/26083.jpg]</td>\n",
       "      <td>1</td>\n",
       "      <td>../app_uis/26083.jpg</td>\n",
       "      <td>1080</td>\n",
       "      <td>1920</td>\n",
       "      <td>0.5625</td>\n",
       "      <td>../app_uis_resized/26083.jpg</td>\n",
       "    </tr>\n",
       "    <tr>\n",
       "      <th>2</th>\n",
       "      <td>DOCECG2.doctor</td>\n",
       "      <td>Electrocardiogram ECG Types</td>\n",
       "      <td>Medical</td>\n",
       "      <td>3.9</td>\n",
       "      <td>4134.500000</td>\n",
       "      <td>500000.0</td>\n",
       "      <td>[../app_uis/51036.jpg]</td>\n",
       "      <td>1</td>\n",
       "      <td>../app_uis/51036.jpg</td>\n",
       "      <td>1080</td>\n",
       "      <td>1920</td>\n",
       "      <td>0.5625</td>\n",
       "      <td>../app_uis_resized/51036.jpg</td>\n",
       "    </tr>\n",
       "    <tr>\n",
       "      <th>3</th>\n",
       "      <td>Gecko.Droid.PhysicsHelper</td>\n",
       "      <td>Pocket Physics</td>\n",
       "      <td>Education</td>\n",
       "      <td>4.1</td>\n",
       "      <td>15938.000000</td>\n",
       "      <td>1000000.0</td>\n",
       "      <td>[../app_uis/29868.jpg, ../app_uis/29869.jpg, ....</td>\n",
       "      <td>5</td>\n",
       "      <td>../app_uis/29868.jpg</td>\n",
       "      <td>1080</td>\n",
       "      <td>1920</td>\n",
       "      <td>0.5625</td>\n",
       "      <td>../app_uis_resized/29868.jpg</td>\n",
       "    </tr>\n",
       "    <tr>\n",
       "      <th>4</th>\n",
       "      <td>Gecko.Droid.PhysicsHelper</td>\n",
       "      <td>Pocket Physics</td>\n",
       "      <td>Education</td>\n",
       "      <td>4.1</td>\n",
       "      <td>15938.000000</td>\n",
       "      <td>1000000.0</td>\n",
       "      <td>[../app_uis/29868.jpg, ../app_uis/29869.jpg, ....</td>\n",
       "      <td>5</td>\n",
       "      <td>../app_uis/29869.jpg</td>\n",
       "      <td>1080</td>\n",
       "      <td>1920</td>\n",
       "      <td>0.5625</td>\n",
       "      <td>../app_uis_resized/29869.jpg</td>\n",
       "    </tr>\n",
       "  </tbody>\n",
       "</table>\n",
       "</div>"
      ],
      "text/plain": [
       "             app_package_name                    app_names   app_category  \\\n",
       "0  B4A.BigFivePersonalityTest       Big 5 Personality Test      Education   \n",
       "1        CN.MyPrivateMessages                   Calculator  Communication   \n",
       "2              DOCECG2.doctor  Electrocardiogram ECG Types        Medical   \n",
       "3   Gecko.Droid.PhysicsHelper               Pocket Physics      Education   \n",
       "4   Gecko.Droid.PhysicsHelper               Pocket Physics      Education   \n",
       "\n",
       "   star_rating_ave  average_rating_ave  min_ratings_ave  \\\n",
       "0              3.6         6698.000000        1000000.0   \n",
       "1              4.3        16952.333333        1000000.0   \n",
       "2              3.9         4134.500000         500000.0   \n",
       "3              4.1        15938.000000        1000000.0   \n",
       "4              4.1        15938.000000        1000000.0   \n",
       "\n",
       "                                       filename_list  filename_num  \\\n",
       "0                             [../app_uis/49783.jpg]             1   \n",
       "1                             [../app_uis/26083.jpg]             1   \n",
       "2                             [../app_uis/51036.jpg]             1   \n",
       "3  [../app_uis/29868.jpg, ../app_uis/29869.jpg, ....             5   \n",
       "4  [../app_uis/29868.jpg, ../app_uis/29869.jpg, ....             5   \n",
       "\n",
       "           filename_exp  img_w  img_h  aspect_ratio  \\\n",
       "0  ../app_uis/49783.jpg   1080   1920        0.5625   \n",
       "1  ../app_uis/26083.jpg   1080   1920        0.5625   \n",
       "2  ../app_uis/51036.jpg   1080   1920        0.5625   \n",
       "3  ../app_uis/29868.jpg   1080   1920        0.5625   \n",
       "4  ../app_uis/29869.jpg   1080   1920        0.5625   \n",
       "\n",
       "                   resized_file  \n",
       "0  ../app_uis_resized/49783.jpg  \n",
       "1  ../app_uis_resized/26083.jpg  \n",
       "2  ../app_uis_resized/51036.jpg  \n",
       "3  ../app_uis_resized/29868.jpg  \n",
       "4  ../app_uis_resized/29869.jpg  "
      ]
     },
     "execution_count": 5,
     "metadata": {},
     "output_type": "execute_result"
    }
   ],
   "source": [
    "app_ui_exp['resized_file'] = app_ui_exp.filename_exp.map(lambda x: '../app_uis_resized/' + basename(x))\n",
    "app_ui_exp.head()"
   ]
  },
  {
   "cell_type": "markdown",
   "metadata": {},
   "source": [
    "## Calculate histograms & entropies "
   ]
  },
  {
   "cell_type": "markdown",
   "metadata": {},
   "source": [
    "#### Sample data"
   ]
  },
  {
   "cell_type": "code",
   "execution_count": null,
   "metadata": {
    "collapsed": true
   },
   "outputs": [],
   "source": [
    "app_ui_exp.sample()"
   ]
  },
  {
   "cell_type": "markdown",
   "metadata": {},
   "source": [
    "#### Add column in dataframe for grayscale histograms"
   ]
  },
  {
   "cell_type": "code",
   "execution_count": 20,
   "metadata": {},
   "outputs": [],
   "source": [
    "def gs_histogram(filepath):\n",
    "    return PIL.Image.open(filepath).convert('L').histogram()"
   ]
  },
  {
   "cell_type": "code",
   "execution_count": 23,
   "metadata": {
    "scrolled": false
   },
   "outputs": [],
   "source": [
    "app_ui_exp['gs_histogram'] = app_ui_exp.resized_file.map(lambda x: gs_histogram(x))"
   ]
  },
  {
   "cell_type": "code",
   "execution_count": 24,
   "metadata": {},
   "outputs": [
    {
     "data": {
      "text/html": [
       "<div>\n",
       "<style>\n",
       "    .dataframe thead tr:only-child th {\n",
       "        text-align: right;\n",
       "    }\n",
       "\n",
       "    .dataframe thead th {\n",
       "        text-align: left;\n",
       "    }\n",
       "\n",
       "    .dataframe tbody tr th {\n",
       "        vertical-align: top;\n",
       "    }\n",
       "</style>\n",
       "<table border=\"1\" class=\"dataframe\">\n",
       "  <thead>\n",
       "    <tr style=\"text-align: right;\">\n",
       "      <th></th>\n",
       "      <th>app_package_name</th>\n",
       "      <th>app_names</th>\n",
       "      <th>app_category</th>\n",
       "      <th>star_rating_ave</th>\n",
       "      <th>average_rating_ave</th>\n",
       "      <th>min_ratings_ave</th>\n",
       "      <th>filename_list</th>\n",
       "      <th>filename_num</th>\n",
       "      <th>filename_exp</th>\n",
       "      <th>img_w</th>\n",
       "      <th>img_h</th>\n",
       "      <th>aspect_ratio</th>\n",
       "      <th>resized_file</th>\n",
       "      <th>gs_histogram</th>\n",
       "    </tr>\n",
       "  </thead>\n",
       "  <tbody>\n",
       "    <tr>\n",
       "      <th>0</th>\n",
       "      <td>B4A.BigFivePersonalityTest</td>\n",
       "      <td>Big 5 Personality Test</td>\n",
       "      <td>Education</td>\n",
       "      <td>3.6</td>\n",
       "      <td>6698.000000</td>\n",
       "      <td>1000000.0</td>\n",
       "      <td>[../app_uis/49783.jpg]</td>\n",
       "      <td>1</td>\n",
       "      <td>../app_uis/49783.jpg</td>\n",
       "      <td>1080</td>\n",
       "      <td>1920</td>\n",
       "      <td>0.5625</td>\n",
       "      <td>../app_uis_resized/49783.jpg</td>\n",
       "      <td>[7495, 945, 498, 298, 210, 567, 162, 145, 106,...</td>\n",
       "    </tr>\n",
       "    <tr>\n",
       "      <th>1</th>\n",
       "      <td>CN.MyPrivateMessages</td>\n",
       "      <td>Calculator</td>\n",
       "      <td>Communication</td>\n",
       "      <td>4.3</td>\n",
       "      <td>16952.333333</td>\n",
       "      <td>1000000.0</td>\n",
       "      <td>[../app_uis/26083.jpg]</td>\n",
       "      <td>1</td>\n",
       "      <td>../app_uis/26083.jpg</td>\n",
       "      <td>1080</td>\n",
       "      <td>1920</td>\n",
       "      <td>0.5625</td>\n",
       "      <td>../app_uis_resized/26083.jpg</td>\n",
       "      <td>[9609, 626, 310, 1090, 264, 699, 1081, 426, 41...</td>\n",
       "    </tr>\n",
       "  </tbody>\n",
       "</table>\n",
       "</div>"
      ],
      "text/plain": [
       "             app_package_name               app_names   app_category  \\\n",
       "0  B4A.BigFivePersonalityTest  Big 5 Personality Test      Education   \n",
       "1        CN.MyPrivateMessages              Calculator  Communication   \n",
       "\n",
       "   star_rating_ave  average_rating_ave  min_ratings_ave  \\\n",
       "0              3.6         6698.000000        1000000.0   \n",
       "1              4.3        16952.333333        1000000.0   \n",
       "\n",
       "            filename_list  filename_num          filename_exp  img_w  img_h  \\\n",
       "0  [../app_uis/49783.jpg]             1  ../app_uis/49783.jpg   1080   1920   \n",
       "1  [../app_uis/26083.jpg]             1  ../app_uis/26083.jpg   1080   1920   \n",
       "\n",
       "   aspect_ratio                  resized_file  \\\n",
       "0        0.5625  ../app_uis_resized/49783.jpg   \n",
       "1        0.5625  ../app_uis_resized/26083.jpg   \n",
       "\n",
       "                                        gs_histogram  \n",
       "0  [7495, 945, 498, 298, 210, 567, 162, 145, 106,...  \n",
       "1  [9609, 626, 310, 1090, 264, 699, 1081, 426, 41...  "
      ]
     },
     "execution_count": 24,
     "metadata": {},
     "output_type": "execute_result"
    }
   ],
   "source": [
    "app_ui_exp.head(2)"
   ]
  },
  {
   "cell_type": "code",
   "execution_count": 26,
   "metadata": {},
   "outputs": [
    {
     "data": {
      "text/plain": [
       "256"
      ]
     },
     "execution_count": 26,
     "metadata": {},
     "output_type": "execute_result"
    }
   ],
   "source": [
    "len(app_ui_exp.gs_histogram[0])"
   ]
  },
  {
   "cell_type": "markdown",
   "metadata": {},
   "source": [
    "#### Add column in dataframe for grayscale entropies"
   ]
  },
  {
   "cell_type": "code",
   "execution_count": 27,
   "metadata": {
    "collapsed": true
   },
   "outputs": [],
   "source": [
    "def ui_entropy(vector):\n",
    "    probabilities = [(float(i)/sum(vector)) for i in vector]\n",
    "    return -sum([p * np.log2(p) for p in probabilities if p != 0])"
   ]
  },
  {
   "cell_type": "code",
   "execution_count": 28,
   "metadata": {},
   "outputs": [],
   "source": [
    "app_ui_exp['gs_ent'] = app_ui_exp.gs_histogram.map(lambda x: ui_entropy(x))"
   ]
  },
  {
   "cell_type": "code",
   "execution_count": 29,
   "metadata": {},
   "outputs": [
    {
     "data": {
      "text/html": [
       "<div>\n",
       "<style>\n",
       "    .dataframe thead tr:only-child th {\n",
       "        text-align: right;\n",
       "    }\n",
       "\n",
       "    .dataframe thead th {\n",
       "        text-align: left;\n",
       "    }\n",
       "\n",
       "    .dataframe tbody tr th {\n",
       "        vertical-align: top;\n",
       "    }\n",
       "</style>\n",
       "<table border=\"1\" class=\"dataframe\">\n",
       "  <thead>\n",
       "    <tr style=\"text-align: right;\">\n",
       "      <th></th>\n",
       "      <th>app_package_name</th>\n",
       "      <th>app_names</th>\n",
       "      <th>app_category</th>\n",
       "      <th>star_rating_ave</th>\n",
       "      <th>average_rating_ave</th>\n",
       "      <th>min_ratings_ave</th>\n",
       "      <th>filename_list</th>\n",
       "      <th>filename_num</th>\n",
       "      <th>filename_exp</th>\n",
       "      <th>img_w</th>\n",
       "      <th>img_h</th>\n",
       "      <th>aspect_ratio</th>\n",
       "      <th>resized_file</th>\n",
       "      <th>gs_histogram</th>\n",
       "      <th>gs_ent</th>\n",
       "    </tr>\n",
       "  </thead>\n",
       "  <tbody>\n",
       "    <tr>\n",
       "      <th>0</th>\n",
       "      <td>B4A.BigFivePersonalityTest</td>\n",
       "      <td>Big 5 Personality Test</td>\n",
       "      <td>Education</td>\n",
       "      <td>3.6</td>\n",
       "      <td>6698.000000</td>\n",
       "      <td>1000000.0</td>\n",
       "      <td>[../app_uis/49783.jpg]</td>\n",
       "      <td>1</td>\n",
       "      <td>../app_uis/49783.jpg</td>\n",
       "      <td>1080</td>\n",
       "      <td>1920</td>\n",
       "      <td>0.5625</td>\n",
       "      <td>../app_uis_resized/49783.jpg</td>\n",
       "      <td>[7495, 945, 498, 298, 210, 567, 162, 145, 106,...</td>\n",
       "      <td>4.289600</td>\n",
       "    </tr>\n",
       "    <tr>\n",
       "      <th>1</th>\n",
       "      <td>CN.MyPrivateMessages</td>\n",
       "      <td>Calculator</td>\n",
       "      <td>Communication</td>\n",
       "      <td>4.3</td>\n",
       "      <td>16952.333333</td>\n",
       "      <td>1000000.0</td>\n",
       "      <td>[../app_uis/26083.jpg]</td>\n",
       "      <td>1</td>\n",
       "      <td>../app_uis/26083.jpg</td>\n",
       "      <td>1080</td>\n",
       "      <td>1920</td>\n",
       "      <td>0.5625</td>\n",
       "      <td>../app_uis_resized/26083.jpg</td>\n",
       "      <td>[9609, 626, 310, 1090, 264, 699, 1081, 426, 41...</td>\n",
       "      <td>6.826821</td>\n",
       "    </tr>\n",
       "  </tbody>\n",
       "</table>\n",
       "</div>"
      ],
      "text/plain": [
       "             app_package_name               app_names   app_category  \\\n",
       "0  B4A.BigFivePersonalityTest  Big 5 Personality Test      Education   \n",
       "1        CN.MyPrivateMessages              Calculator  Communication   \n",
       "\n",
       "   star_rating_ave  average_rating_ave  min_ratings_ave  \\\n",
       "0              3.6         6698.000000        1000000.0   \n",
       "1              4.3        16952.333333        1000000.0   \n",
       "\n",
       "            filename_list  filename_num          filename_exp  img_w  img_h  \\\n",
       "0  [../app_uis/49783.jpg]             1  ../app_uis/49783.jpg   1080   1920   \n",
       "1  [../app_uis/26083.jpg]             1  ../app_uis/26083.jpg   1080   1920   \n",
       "\n",
       "   aspect_ratio                  resized_file  \\\n",
       "0        0.5625  ../app_uis_resized/49783.jpg   \n",
       "1        0.5625  ../app_uis_resized/26083.jpg   \n",
       "\n",
       "                                        gs_histogram    gs_ent  \n",
       "0  [7495, 945, 498, 298, 210, 567, 162, 145, 106,...  4.289600  \n",
       "1  [9609, 626, 310, 1090, 264, 699, 1081, 426, 41...  6.826821  "
      ]
     },
     "execution_count": 29,
     "metadata": {},
     "output_type": "execute_result"
    }
   ],
   "source": [
    "app_ui_exp.head(2)"
   ]
  },
  {
   "cell_type": "markdown",
   "metadata": {},
   "source": [
    "#### Add column in dataframe for color histograms"
   ]
  },
  {
   "cell_type": "code",
   "execution_count": 30,
   "metadata": {
    "collapsed": true
   },
   "outputs": [],
   "source": [
    "def c_histogram(filepath):\n",
    "    return PIL.Image.open(filepath).histogram()"
   ]
  },
  {
   "cell_type": "code",
   "execution_count": null,
   "metadata": {
    "collapsed": true
   },
   "outputs": [],
   "source": [
    "app_ui_exp['c_histogram'] = app_ui_exp.resized_file.map(lambda x: c_histogram(x))"
   ]
  },
  {
   "cell_type": "code",
   "execution_count": null,
   "metadata": {
    "collapsed": true
   },
   "outputs": [],
   "source": []
  }
 ],
 "metadata": {
  "kernelspec": {
   "display_name": "Python 3",
   "language": "python",
   "name": "python3"
  },
  "language_info": {
   "codemirror_mode": {
    "name": "ipython",
    "version": 3
   },
   "file_extension": ".py",
   "mimetype": "text/x-python",
   "name": "python",
   "nbconvert_exporter": "python",
   "pygments_lexer": "ipython3",
   "version": "3.6.1"
  }
 },
 "nbformat": 4,
 "nbformat_minor": 2
}
